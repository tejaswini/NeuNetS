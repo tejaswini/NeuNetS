{
 "cells": [
  {
   "cell_type": "markdown",
   "metadata": {},
   "source": [
    "# Using NeuNetS Generated Model to Perform Inference on Sample Sentences with the Watson Machine Learning Client"
   ]
  },
  {
   "cell_type": "markdown",
   "metadata": {},
   "source": [
    "This notebook demonstrates inferencing with a **Keras** (TensorFlow) model which was designed and trained using *NeuNetS*. *NeuNetS* designs and trains a custom neural network, which users may then download. \n",
    "\n",
    "In addition to downloading the model for use elsewhere, the user has the option of deploying the model straight to their Watson Machine Learning instance through the *NeuNetS* interface. Once this is done, they will receive a URL which they can use to classify new sentences. "
   ]
  },
  {
   "cell_type": "markdown",
   "metadata": {},
   "source": [
    "## 1. Launch Watson Machine Learning Client\n",
    "First, install the latest version of the Watson Machine Learning Client. "
   ]
  },
  {
   "cell_type": "code",
   "execution_count": null,
   "metadata": {},
   "outputs": [],
   "source": [
    "!pip install --upgrade watson-machine-learning-client"
   ]
  },
  {
   "cell_type": "markdown",
   "metadata": {},
   "source": [
    "**Tip**: Restart the kernel (**Kernel** -> **Restart**)\n",
    "\n",
    "Next import the API Client."
   ]
  },
  {
   "cell_type": "code",
   "execution_count": null,
   "metadata": {},
   "outputs": [],
   "source": [
    "from watson_machine_learning_client import WatsonMachineLearningAPIClient"
   ]
  },
  {
   "cell_type": "markdown",
   "metadata": {},
   "source": [
    "Credentials are necessary to access the user WML instance. \n",
    "\n",
    "**Tip**: Authentication information (your credentials) can be found in the Service credentials tab of the WML service instance that you created on IBM Cloud. If there are no credentials listed for your instance in Service credentials, click New credential (+) and enter the information required to generate new authentication information."
   ]
  },
  {
   "cell_type": "code",
   "execution_count": null,
   "metadata": {},
   "outputs": [],
   "source": [
    "wml_credentials = {\n",
    "  \"url\": \"<>\",\n",
    "  \"access_key\": \"<>\",\n",
    "  \"username\": \"<>\",\n",
    "  \"password\": \"<>\",\n",
    "  \"instance_id\": \"<>\"\n",
    "}"
   ]
  },
  {
   "cell_type": "markdown",
   "metadata": {},
   "source": [
    "Now initialize the client with your credentials. "
   ]
  },
  {
   "cell_type": "code",
   "execution_count": null,
   "metadata": {},
   "outputs": [],
   "source": [
    "client = WatsonMachineLearningAPIClient(wml_credentials)"
   ]
  },
  {
   "cell_type": "markdown",
   "metadata": {},
   "source": [
    "## 2. Load Sentence to be Classified"
   ]
  },
  {
   "cell_type": "code",
   "execution_count": null,
   "metadata": {},
   "outputs": [],
   "source": [
    "test_sentence = \"\"\n",
    "display(test_sentence)"
   ]
  },
  {
   "cell_type": "markdown",
   "metadata": {},
   "source": [
    "In order to score with WML, we insert the input sentence in a payload dictionary. We then pass this dictionary to the scoring URL. This will return the class predicted by the *NeuNetS* model. "
   ]
  },
  {
   "cell_type": "code",
   "execution_count": null,
   "metadata": {},
   "outputs": [],
   "source": [
    "scoring_payload = {'values': [test_sentence]}"
   ]
  },
  {
   "cell_type": "markdown",
   "metadata": {},
   "source": [
    "## 3. Call the WML Client to Classify the Sentence\n",
    "\n",
    "The WML deployment for our model includes a URL endpoint to perform the scoring. Copy this URL here so that the client can call the deployed *NeuNetS* model. \n",
    "\n",
    "**Tip:** To access the scoring URL, you must first have a deployed model in WML. After synthesizing a model, the \"Deploy Model to Watson Machine Learning\" button in the top right hand side of the page will be active. Click this and follow the link to the deployment details. On this page, go to the \"Implementation tab\". You will need to paste the scoring url that is listed here into the cell below. "
   ]
  },
  {
   "cell_type": "code",
   "execution_count": null,
   "metadata": {},
   "outputs": [],
   "source": [
    "scoring_url = \"<>\"\n",
    "print(scoring_url)"
   ]
  },
  {
   "cell_type": "code",
   "execution_count": null,
   "metadata": {},
   "outputs": [],
   "source": [
    "result = client.deployments.score(scoring_url, scoring_payload)\n",
    "result"
   ]
  },
  {
   "cell_type": "markdown",
   "metadata": {},
   "source": [
    "### Author: *NeuNetS* Team"
   ]
  },
  {
   "cell_type": "markdown",
   "metadata": {},
   "source": [
    "Copyright © 2018 IBM. This notebook and its source code are released under the terms of the MIT License."
   ]
  }
 ],
 "metadata": {
  "kernelspec": {
   "display_name": "Python [conda env:autonn]",
   "language": "python",
   "name": "conda-env-autonn-py"
  },
  "language_info": {
   "codemirror_mode": {
    "name": "ipython",
    "version": 3
   },
   "file_extension": ".py",
   "mimetype": "text/x-python",
   "name": "python",
   "nbconvert_exporter": "python",
   "pygments_lexer": "ipython3",
   "version": "3.5.6"
  }
 },
 "nbformat": 4,
 "nbformat_minor": 2
}
